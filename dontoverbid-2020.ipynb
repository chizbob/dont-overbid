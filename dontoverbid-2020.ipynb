{
 "cells": [
  {
   "cell_type": "code",
   "execution_count": 1,
   "id": "7e460a6f-2dab-4bf3-a2a8-32405a7776b2",
   "metadata": {},
   "outputs": [],
   "source": [
    "#1. Collect data and 2. Load and preprocess\n",
    "\n",
    "import sys\n",
    "import pandas as pd\n",
    "import numpy as np\n"
   ]
  },
  {
   "cell_type": "code",
   "execution_count": 2,
   "id": "7517e4e9-6a79-447b-b819-0766b1d34051",
   "metadata": {},
   "outputs": [],
   "source": [
    "path = sys.path[0]\n",
    "data = \"/redfin_2020.csv\" #this data is previous sale records of single homes in palo alto and adjacent areas. the year ranges from 2017-2019 \n",
    "\n",
    "df_raw = pd.read_csv(path+data)"
   ]
  },
  {
   "cell_type": "code",
   "execution_count": 3,
   "id": "9734bbf5-25ca-4d12-8132-3e90c1579816",
   "metadata": {},
   "outputs": [
    {
     "name": "stdout",
     "output_type": "stream",
     "text": [
      "<class 'pandas.core.frame.DataFrame'>\n",
      "RangeIndex: 184 entries, 0 to 183\n",
      "Data columns (total 25 columns):\n",
      " #   Column                                                                                       Non-Null Count  Dtype  \n",
      "---  ------                                                                                       --------------  -----  \n",
      " 0   SALE TYPE                                                                                    184 non-null    object \n",
      " 1   SOLD YEAR                                                                                    107 non-null    float64\n",
      " 2   CITY                                                                                         184 non-null    object \n",
      " 3   STATE OR PROVINCE                                                                            184 non-null    object \n",
      " 4   ZIP OR POSTAL CODE                                                                           184 non-null    int64  \n",
      " 5   PRICE                                                                                        184 non-null    int64  \n",
      " 6   BEDS                                                                                         182 non-null    float64\n",
      " 7   BATHS                                                                                        182 non-null    float64\n",
      " 8   LOCATION                                                                                     107 non-null    object \n",
      " 9   SQUARE FEET                                                                                  183 non-null    float64\n",
      " 10  LOT SIZE                                                                                     184 non-null    int64  \n",
      " 11  YEAR BUILT                                                                                   182 non-null    float64\n",
      " 12  DAYS ON MARKET                                                                               0 non-null      float64\n",
      " 13  $/SQUARE FEET                                                                                183 non-null    float64\n",
      " 14  HOA/MONTH                                                                                    1 non-null      float64\n",
      " 15  STATUS                                                                                       107 non-null    object \n",
      " 16  NEXT OPEN HOUSE START TIME                                                                   0 non-null      float64\n",
      " 17  NEXT OPEN HOUSE END TIME                                                                     0 non-null      float64\n",
      " 18  URL (SEE https://www.redfin.com/buy-a-home/comparative-market-analysis FOR INFO ON PRICING)  184 non-null    object \n",
      " 19  SOURCE                                                                                       107 non-null    object \n",
      " 20  MLS#                                                                                         107 non-null    object \n",
      " 21  FAVORITE                                                                                     184 non-null    object \n",
      " 22  INTERESTED                                                                                   184 non-null    object \n",
      " 23  LATITUDE                                                                                     184 non-null    float64\n",
      " 24  LONGITUDE                                                                                    184 non-null    float64\n",
      "dtypes: float64(12), int64(3), object(10)\n",
      "memory usage: 36.1+ KB\n"
     ]
    }
   ],
   "source": [
    "df_raw.info() #look at the data highlevel (info() is useful because it also includes df_raw.shape, df_raw.dtypes)"
   ]
  },
  {
   "cell_type": "code",
   "execution_count": 4,
   "id": "06a83ff4-7344-4336-a164-50132ff62a16",
   "metadata": {},
   "outputs": [
    {
     "data": {
      "text/html": [
       "<div>\n",
       "<style scoped>\n",
       "    .dataframe tbody tr th:only-of-type {\n",
       "        vertical-align: middle;\n",
       "    }\n",
       "\n",
       "    .dataframe tbody tr th {\n",
       "        vertical-align: top;\n",
       "    }\n",
       "\n",
       "    .dataframe thead th {\n",
       "        text-align: right;\n",
       "    }\n",
       "</style>\n",
       "<table border=\"1\" class=\"dataframe\">\n",
       "  <thead>\n",
       "    <tr style=\"text-align: right;\">\n",
       "      <th></th>\n",
       "      <th>SALE TYPE</th>\n",
       "      <th>SOLD YEAR</th>\n",
       "      <th>CITY</th>\n",
       "      <th>STATE OR PROVINCE</th>\n",
       "      <th>ZIP OR POSTAL CODE</th>\n",
       "      <th>PRICE</th>\n",
       "      <th>BEDS</th>\n",
       "      <th>BATHS</th>\n",
       "      <th>LOCATION</th>\n",
       "      <th>SQUARE FEET</th>\n",
       "      <th>...</th>\n",
       "      <th>STATUS</th>\n",
       "      <th>NEXT OPEN HOUSE START TIME</th>\n",
       "      <th>NEXT OPEN HOUSE END TIME</th>\n",
       "      <th>URL (SEE https://www.redfin.com/buy-a-home/comparative-market-analysis FOR INFO ON PRICING)</th>\n",
       "      <th>SOURCE</th>\n",
       "      <th>MLS#</th>\n",
       "      <th>FAVORITE</th>\n",
       "      <th>INTERESTED</th>\n",
       "      <th>LATITUDE</th>\n",
       "      <th>LONGITUDE</th>\n",
       "    </tr>\n",
       "  </thead>\n",
       "  <tbody>\n",
       "    <tr>\n",
       "      <th>0</th>\n",
       "      <td>PAST SALE</td>\n",
       "      <td>2017.0</td>\n",
       "      <td>PALO ALTO</td>\n",
       "      <td>CA</td>\n",
       "      <td>94301</td>\n",
       "      <td>7200000</td>\n",
       "      <td>5.0</td>\n",
       "      <td>4.0</td>\n",
       "      <td>PALO ALTO</td>\n",
       "      <td>4358.0</td>\n",
       "      <td>...</td>\n",
       "      <td>Sold</td>\n",
       "      <td>NaN</td>\n",
       "      <td>NaN</td>\n",
       "      <td>https://www.redfin.com/CA/Palo-Alto/525-Center...</td>\n",
       "      <td>MLSListings</td>\n",
       "      <td>ML81652346</td>\n",
       "      <td>N</td>\n",
       "      <td>Y</td>\n",
       "      <td>37.456094</td>\n",
       "      <td>-122.143513</td>\n",
       "    </tr>\n",
       "    <tr>\n",
       "      <th>1</th>\n",
       "      <td>PAST SALE</td>\n",
       "      <td>2017.0</td>\n",
       "      <td>PALO ALTO</td>\n",
       "      <td>CA</td>\n",
       "      <td>94306</td>\n",
       "      <td>4490000</td>\n",
       "      <td>5.0</td>\n",
       "      <td>4.5</td>\n",
       "      <td>PALO ALTO</td>\n",
       "      <td>3486.0</td>\n",
       "      <td>...</td>\n",
       "      <td>Sold</td>\n",
       "      <td>NaN</td>\n",
       "      <td>NaN</td>\n",
       "      <td>https://www.redfin.com/CA/Palo-Alto/138-Park-A...</td>\n",
       "      <td>MLSListings</td>\n",
       "      <td>ML81670538</td>\n",
       "      <td>N</td>\n",
       "      <td>Y</td>\n",
       "      <td>37.429859</td>\n",
       "      <td>-122.150108</td>\n",
       "    </tr>\n",
       "    <tr>\n",
       "      <th>2</th>\n",
       "      <td>PAST SALE</td>\n",
       "      <td>2017.0</td>\n",
       "      <td>PALO ALTO</td>\n",
       "      <td>CA</td>\n",
       "      <td>94306</td>\n",
       "      <td>5000000</td>\n",
       "      <td>6.0</td>\n",
       "      <td>5.5</td>\n",
       "      <td>PALO ALTO</td>\n",
       "      <td>3408.0</td>\n",
       "      <td>...</td>\n",
       "      <td>Sold</td>\n",
       "      <td>NaN</td>\n",
       "      <td>NaN</td>\n",
       "      <td>https://www.redfin.com/CA/Palo-Alto/3452-Cowpe...</td>\n",
       "      <td>MLSListings</td>\n",
       "      <td>ML81673433</td>\n",
       "      <td>N</td>\n",
       "      <td>Y</td>\n",
       "      <td>37.423402</td>\n",
       "      <td>-122.120644</td>\n",
       "    </tr>\n",
       "    <tr>\n",
       "      <th>3</th>\n",
       "      <td>PAST SALE</td>\n",
       "      <td>2017.0</td>\n",
       "      <td>PALO ALTO</td>\n",
       "      <td>CA</td>\n",
       "      <td>94303</td>\n",
       "      <td>3800000</td>\n",
       "      <td>6.0</td>\n",
       "      <td>4.0</td>\n",
       "      <td>PALO ALTO</td>\n",
       "      <td>3645.0</td>\n",
       "      <td>...</td>\n",
       "      <td>Sold</td>\n",
       "      <td>NaN</td>\n",
       "      <td>NaN</td>\n",
       "      <td>https://www.redfin.com/CA/Palo-Alto/653-Wildwo...</td>\n",
       "      <td>MLSListings</td>\n",
       "      <td>ML81653995</td>\n",
       "      <td>N</td>\n",
       "      <td>Y</td>\n",
       "      <td>37.450088</td>\n",
       "      <td>-122.127432</td>\n",
       "    </tr>\n",
       "    <tr>\n",
       "      <th>4</th>\n",
       "      <td>PAST SALE</td>\n",
       "      <td>2017.0</td>\n",
       "      <td>PALO ALTO</td>\n",
       "      <td>CA</td>\n",
       "      <td>94306</td>\n",
       "      <td>2400000</td>\n",
       "      <td>5.0</td>\n",
       "      <td>5.5</td>\n",
       "      <td>PALO ALTO</td>\n",
       "      <td>3600.0</td>\n",
       "      <td>...</td>\n",
       "      <td>Sold</td>\n",
       "      <td>NaN</td>\n",
       "      <td>NaN</td>\n",
       "      <td>https://www.redfin.com/CA/Palo-Alto/4388-Silva...</td>\n",
       "      <td>MLSListings</td>\n",
       "      <td>ML81671064</td>\n",
       "      <td>N</td>\n",
       "      <td>Y</td>\n",
       "      <td>37.407704</td>\n",
       "      <td>-122.113811</td>\n",
       "    </tr>\n",
       "  </tbody>\n",
       "</table>\n",
       "<p>5 rows × 25 columns</p>\n",
       "</div>"
      ],
      "text/plain": [
       "   SALE TYPE  SOLD YEAR       CITY STATE OR PROVINCE  ZIP OR POSTAL CODE  \\\n",
       "0  PAST SALE     2017.0  PALO ALTO                CA               94301   \n",
       "1  PAST SALE     2017.0  PALO ALTO                CA               94306   \n",
       "2  PAST SALE     2017.0  PALO ALTO                CA               94306   \n",
       "3  PAST SALE     2017.0  PALO ALTO                CA               94303   \n",
       "4  PAST SALE     2017.0  PALO ALTO                CA               94306   \n",
       "\n",
       "     PRICE  BEDS  BATHS   LOCATION  SQUARE FEET  ...  STATUS  \\\n",
       "0  7200000   5.0    4.0  PALO ALTO       4358.0  ...    Sold   \n",
       "1  4490000   5.0    4.5  PALO ALTO       3486.0  ...    Sold   \n",
       "2  5000000   6.0    5.5  PALO ALTO       3408.0  ...    Sold   \n",
       "3  3800000   6.0    4.0  PALO ALTO       3645.0  ...    Sold   \n",
       "4  2400000   5.0    5.5  PALO ALTO       3600.0  ...    Sold   \n",
       "\n",
       "   NEXT OPEN HOUSE START TIME  NEXT OPEN HOUSE END TIME  \\\n",
       "0                         NaN                       NaN   \n",
       "1                         NaN                       NaN   \n",
       "2                         NaN                       NaN   \n",
       "3                         NaN                       NaN   \n",
       "4                         NaN                       NaN   \n",
       "\n",
       "   URL (SEE https://www.redfin.com/buy-a-home/comparative-market-analysis FOR INFO ON PRICING)  \\\n",
       "0  https://www.redfin.com/CA/Palo-Alto/525-Center...                                             \n",
       "1  https://www.redfin.com/CA/Palo-Alto/138-Park-A...                                             \n",
       "2  https://www.redfin.com/CA/Palo-Alto/3452-Cowpe...                                             \n",
       "3  https://www.redfin.com/CA/Palo-Alto/653-Wildwo...                                             \n",
       "4  https://www.redfin.com/CA/Palo-Alto/4388-Silva...                                             \n",
       "\n",
       "        SOURCE        MLS#  FAVORITE  INTERESTED   LATITUDE   LONGITUDE  \n",
       "0  MLSListings  ML81652346         N           Y  37.456094 -122.143513  \n",
       "1  MLSListings  ML81670538         N           Y  37.429859 -122.150108  \n",
       "2  MLSListings  ML81673433         N           Y  37.423402 -122.120644  \n",
       "3  MLSListings  ML81653995         N           Y  37.450088 -122.127432  \n",
       "4  MLSListings  ML81671064         N           Y  37.407704 -122.113811  \n",
       "\n",
       "[5 rows x 25 columns]"
      ]
     },
     "execution_count": 4,
     "metadata": {},
     "output_type": "execute_result"
    }
   ],
   "source": [
    "#take a peek at the dataframe\n",
    "df_raw.head()"
   ]
  },
  {
   "cell_type": "code",
   "execution_count": 10,
   "id": "f0a4f1a2-a31c-40b7-9c91-6bf02a06f6c0",
   "metadata": {},
   "outputs": [
    {
     "name": "stdout",
     "output_type": "stream",
     "text": [
      "<class 'pandas.core.frame.DataFrame'>\n",
      "RangeIndex: 184 entries, 0 to 183\n",
      "Data columns (total 8 columns):\n",
      " #   Column         Non-Null Count  Dtype  \n",
      "---  ------         --------------  -----  \n",
      " 0   BEDS           182 non-null    float64\n",
      " 1   BATHS          182 non-null    float64\n",
      " 2   CITY           184 non-null    object \n",
      " 3   PRICE          184 non-null    int64  \n",
      " 4   SQUARE FEET    183 non-null    float64\n",
      " 5   LOT SIZE       184 non-null    int64  \n",
      " 6   YEAR BUILT     182 non-null    float64\n",
      " 7   $/SQUARE FEET  183 non-null    float64\n",
      "dtypes: float64(5), int64(2), object(1)\n",
      "memory usage: 11.6+ KB\n"
     ]
    }
   ],
   "source": [
    "#picking up only necessary values that's crititocal to price: beds, baths, square feet, lot size, year built, $/square feet, etc\n",
    "#vals like location, zip code, state, property types, are excluded because the raw data was already filtered with certain conditions, and the values are all the same in that vals \n",
    "\n",
    "y_label = \"PRICE\"\n",
    "necessary_vars = [\"BEDS\", \"BATHS\", \"CITY\", \"PRICE\", \"SQUARE FEET\", \"LOT SIZE\", \"YEAR BUILT\", \"$/SQUARE FEET\"]\n",
    "\n",
    "df=df_raw[necessary_vars]\n",
    "df.info() #shape(184, 8)"
   ]
  },
  {
   "cell_type": "code",
   "execution_count": 11,
   "id": "c374d0be-bc30-4fa8-9cb6-b402e98c347c",
   "metadata": {},
   "outputs": [
    {
     "data": {
      "text/html": [
       "<div>\n",
       "<style scoped>\n",
       "    .dataframe tbody tr th:only-of-type {\n",
       "        vertical-align: middle;\n",
       "    }\n",
       "\n",
       "    .dataframe tbody tr th {\n",
       "        vertical-align: top;\n",
       "    }\n",
       "\n",
       "    .dataframe thead th {\n",
       "        text-align: right;\n",
       "    }\n",
       "</style>\n",
       "<table border=\"1\" class=\"dataframe\">\n",
       "  <thead>\n",
       "    <tr style=\"text-align: right;\">\n",
       "      <th></th>\n",
       "      <th>BEDS</th>\n",
       "      <th>BATHS</th>\n",
       "      <th>CITY</th>\n",
       "      <th>PRICE</th>\n",
       "      <th>SQUARE FEET</th>\n",
       "      <th>LOT SIZE</th>\n",
       "      <th>YEAR BUILT</th>\n",
       "      <th>$/SQUARE FEET</th>\n",
       "    </tr>\n",
       "  </thead>\n",
       "  <tbody>\n",
       "    <tr>\n",
       "      <th>142</th>\n",
       "      <td>NaN</td>\n",
       "      <td>NaN</td>\n",
       "      <td>La Honda</td>\n",
       "      <td>800000</td>\n",
       "      <td>NaN</td>\n",
       "      <td>1751548</td>\n",
       "      <td>NaN</td>\n",
       "      <td>NaN</td>\n",
       "    </tr>\n",
       "    <tr>\n",
       "      <th>172</th>\n",
       "      <td>NaN</td>\n",
       "      <td>NaN</td>\n",
       "      <td>Palo Alto</td>\n",
       "      <td>2700000</td>\n",
       "      <td>2006.0</td>\n",
       "      <td>8676</td>\n",
       "      <td>NaN</td>\n",
       "      <td>1346.0</td>\n",
       "    </tr>\n",
       "  </tbody>\n",
       "</table>\n",
       "</div>"
      ],
      "text/plain": [
       "     BEDS  BATHS       CITY    PRICE  SQUARE FEET  LOT SIZE  YEAR BUILT  \\\n",
       "142   NaN    NaN   La Honda   800000          NaN   1751548         NaN   \n",
       "172   NaN    NaN  Palo Alto  2700000       2006.0      8676         NaN   \n",
       "\n",
       "     $/SQUARE FEET  \n",
       "142            NaN  \n",
       "172         1346.0  "
      ]
     },
     "execution_count": 11,
     "metadata": {},
     "output_type": "execute_result"
    }
   ],
   "source": [
    "#seems there are some rows with the missing values. let's take a look \n",
    "\n",
    "df[df.isnull().any(axis=1)]"
   ]
  },
  {
   "cell_type": "code",
   "execution_count": 12,
   "id": "4022b445-5fee-4d5d-9934-f73951883b47",
   "metadata": {},
   "outputs": [],
   "source": [
    "# will drop the two rows \n",
    "df = df.dropna().reset_index(drop=True)"
   ]
  },
  {
   "cell_type": "code",
   "execution_count": 13,
   "id": "a4e3431b-4724-42e4-b393-3b08b99a0184",
   "metadata": {},
   "outputs": [
    {
     "data": {
      "text/html": [
       "<div>\n",
       "<style scoped>\n",
       "    .dataframe tbody tr th:only-of-type {\n",
       "        vertical-align: middle;\n",
       "    }\n",
       "\n",
       "    .dataframe tbody tr th {\n",
       "        vertical-align: top;\n",
       "    }\n",
       "\n",
       "    .dataframe thead th {\n",
       "        text-align: right;\n",
       "    }\n",
       "</style>\n",
       "<table border=\"1\" class=\"dataframe\">\n",
       "  <thead>\n",
       "    <tr style=\"text-align: right;\">\n",
       "      <th></th>\n",
       "      <th>BEDS</th>\n",
       "      <th>BATHS</th>\n",
       "      <th>CITY</th>\n",
       "      <th>PRICE</th>\n",
       "      <th>SQUARE FEET</th>\n",
       "      <th>LOT SIZE</th>\n",
       "      <th>YEAR BUILT</th>\n",
       "      <th>$/SQUARE FEET</th>\n",
       "    </tr>\n",
       "  </thead>\n",
       "  <tbody>\n",
       "  </tbody>\n",
       "</table>\n",
       "</div>"
      ],
      "text/plain": [
       "Empty DataFrame\n",
       "Columns: [BEDS, BATHS, CITY, PRICE, SQUARE FEET, LOT SIZE, YEAR BUILT, $/SQUARE FEET]\n",
       "Index: []"
      ]
     },
     "execution_count": 13,
     "metadata": {},
     "output_type": "execute_result"
    }
   ],
   "source": [
    "df[df.isnull().any(axis=1)]"
   ]
  },
  {
   "cell_type": "code",
   "execution_count": 14,
   "id": "2d49b203-c86d-4cdf-8857-f0648980afb1",
   "metadata": {},
   "outputs": [
    {
     "name": "stdout",
     "output_type": "stream",
     "text": [
      "<class 'pandas.core.frame.DataFrame'>\n",
      "RangeIndex: 182 entries, 0 to 181\n",
      "Data columns (total 8 columns):\n",
      " #   Column         Non-Null Count  Dtype  \n",
      "---  ------         --------------  -----  \n",
      " 0   BEDS           182 non-null    float64\n",
      " 1   BATHS          182 non-null    float64\n",
      " 2   CITY           182 non-null    object \n",
      " 3   PRICE          182 non-null    int64  \n",
      " 4   SQUARE FEET    182 non-null    float64\n",
      " 5   LOT SIZE       182 non-null    int64  \n",
      " 6   YEAR BUILT     182 non-null    float64\n",
      " 7   $/SQUARE FEET  182 non-null    float64\n",
      "dtypes: float64(5), int64(2), object(1)\n",
      "memory usage: 11.5+ KB\n"
     ]
    }
   ],
   "source": [
    "df.info()  #shape (182, 8)"
   ]
  },
  {
   "cell_type": "code",
   "execution_count": 15,
   "id": "49333af0-3424-423f-845f-ff4590989ceb",
   "metadata": {},
   "outputs": [
    {
     "data": {
      "text/plain": [
       "array(['PALO ALTO', 'LOS ALTOS HILLS', 'STANFORD', 'MENLO PARK',\n",
       "       'EAST PALO ALTO', 'LOS ALTOS', 'PORTOLA VALLEY', 'Palo Alto',\n",
       "       'Menlo Park', 'Los Altos Hills'], dtype=object)"
      ]
     },
     "execution_count": 15,
     "metadata": {},
     "output_type": "execute_result"
    }
   ],
   "source": [
    "# handle categorical values, in this case City.\n",
    "\n",
    "df[\"CITY\"].unique()"
   ]
  },
  {
   "cell_type": "code",
   "execution_count": 16,
   "id": "506ebc85-b1b3-4d5b-a069-e81a7f7690f8",
   "metadata": {},
   "outputs": [],
   "source": [
    "# there's casing issue in this column. Need to unify, by making Palo Alto to PALO ALTO, etc.\n",
    "\n",
    "df[\"CITY\"] = df.loc[:, \"CITY\"].str.upper()"
   ]
  },
  {
   "cell_type": "code",
   "execution_count": 17,
   "id": "d7d38ab8-f746-40fe-bc97-80531f2abfd9",
   "metadata": {},
   "outputs": [
    {
     "data": {
      "text/plain": [
       "array(['PALO ALTO', 'LOS ALTOS HILLS', 'STANFORD', 'MENLO PARK',\n",
       "       'EAST PALO ALTO', 'LOS ALTOS', 'PORTOLA VALLEY'], dtype=object)"
      ]
     },
     "execution_count": 17,
     "metadata": {},
     "output_type": "execute_result"
    }
   ],
   "source": [
    "df[\"CITY\"].unique() #the casing is handled now. "
   ]
  },
  {
   "cell_type": "code",
   "execution_count": 18,
   "id": "63fd093e-71b6-46d5-bf1f-09f58485ba3f",
   "metadata": {},
   "outputs": [
    {
     "data": {
      "text/plain": [
       "7"
      ]
     },
     "execution_count": 18,
     "metadata": {},
     "output_type": "execute_result"
    }
   ],
   "source": [
    "df[\"CITY\"].nunique()"
   ]
  },
  {
   "cell_type": "code",
   "execution_count": 19,
   "id": "31d8b800-9561-40b9-9bd1-d3cb2427c514",
   "metadata": {},
   "outputs": [],
   "source": [
    "#for CITY column values, need to apply one-hot encoding\n",
    "#I am going to label each of the cities into numeric value (label encoding), and then do the one-hot encoding.  \n",
    "\n",
    "from sklearn.preprocessing import LabelEncoder\n",
    "from sklearn.preprocessing import OneHotEncoder"
   ]
  },
  {
   "cell_type": "code",
   "execution_count": 20,
   "id": "b6aac017-5419-4d91-9268-816e16fdf267",
   "metadata": {},
   "outputs": [
    {
     "data": {
      "text/plain": [
       "array([4, 4, 4, 4, 4, 4, 2, 4, 2, 4, 4, 4, 4, 4, 4, 4, 4, 4, 6, 4, 4, 4,\n",
       "       4, 4, 4, 4, 4, 4, 4, 4, 4, 4, 4, 2, 4, 4, 4, 4, 3, 4, 4, 4, 4, 4,\n",
       "       4, 4, 4, 4, 4, 4, 4, 4, 4, 0, 4, 4, 4, 4, 4, 1, 4, 4, 4, 4, 1, 4,\n",
       "       3, 4, 4, 4, 4, 4, 4, 4, 4, 4, 3, 3, 4, 4, 4, 4, 4, 4, 4, 4, 4, 4,\n",
       "       4, 4, 4, 4, 6, 4, 3, 3, 4, 4, 4, 4, 4, 5, 4, 4, 4, 4, 4, 4, 4, 4,\n",
       "       4, 4, 4, 4, 4, 4, 4, 4, 3, 4, 4, 4, 4, 3, 4, 4, 2, 4, 4, 4, 4, 4,\n",
       "       4, 4, 4, 4, 4, 4, 4, 4, 4, 4, 3, 4, 4, 4, 4, 3, 4, 4, 4, 4, 4, 4,\n",
       "       4, 4, 4, 4, 2, 4, 4, 4, 3, 4, 4, 4, 4, 4, 4, 3, 3, 4, 4, 4, 3, 4,\n",
       "       4, 4, 4, 4, 4, 4])"
      ]
     },
     "execution_count": 20,
     "metadata": {},
     "output_type": "execute_result"
    }
   ],
   "source": [
    "label_enc = LabelEncoder()\n",
    "city_label = label_enc.fit_transform(df[\"CITY\"])\n",
    "city_label #looks like mostly 4, which is what I am focusing (city, palo alto)"
   ]
  },
  {
   "cell_type": "code",
   "execution_count": 21,
   "id": "4e7764a5-40d4-4c6b-b651-8e31966e3e8c",
   "metadata": {},
   "outputs": [
    {
     "data": {
      "text/html": [
       "<div>\n",
       "<style scoped>\n",
       "    .dataframe tbody tr th:only-of-type {\n",
       "        vertical-align: middle;\n",
       "    }\n",
       "\n",
       "    .dataframe tbody tr th {\n",
       "        vertical-align: top;\n",
       "    }\n",
       "\n",
       "    .dataframe thead th {\n",
       "        text-align: right;\n",
       "    }\n",
       "</style>\n",
       "<table border=\"1\" class=\"dataframe\">\n",
       "  <thead>\n",
       "    <tr style=\"text-align: right;\">\n",
       "      <th></th>\n",
       "      <th>BEDS</th>\n",
       "      <th>BATHS</th>\n",
       "      <th>CITY</th>\n",
       "      <th>PRICE</th>\n",
       "      <th>SQUARE FEET</th>\n",
       "      <th>LOT SIZE</th>\n",
       "      <th>YEAR BUILT</th>\n",
       "      <th>$/SQUARE FEET</th>\n",
       "      <th>city_label</th>\n",
       "    </tr>\n",
       "  </thead>\n",
       "  <tbody>\n",
       "    <tr>\n",
       "      <th>0</th>\n",
       "      <td>5.0</td>\n",
       "      <td>4.0</td>\n",
       "      <td>PALO ALTO</td>\n",
       "      <td>7200000</td>\n",
       "      <td>4358.0</td>\n",
       "      <td>14709</td>\n",
       "      <td>1931.0</td>\n",
       "      <td>1652.0</td>\n",
       "      <td>4</td>\n",
       "    </tr>\n",
       "    <tr>\n",
       "      <th>1</th>\n",
       "      <td>5.0</td>\n",
       "      <td>4.5</td>\n",
       "      <td>PALO ALTO</td>\n",
       "      <td>4490000</td>\n",
       "      <td>3486.0</td>\n",
       "      <td>7500</td>\n",
       "      <td>1940.0</td>\n",
       "      <td>1288.0</td>\n",
       "      <td>4</td>\n",
       "    </tr>\n",
       "    <tr>\n",
       "      <th>2</th>\n",
       "      <td>6.0</td>\n",
       "      <td>5.5</td>\n",
       "      <td>PALO ALTO</td>\n",
       "      <td>5000000</td>\n",
       "      <td>3408.0</td>\n",
       "      <td>9198</td>\n",
       "      <td>2017.0</td>\n",
       "      <td>1467.0</td>\n",
       "      <td>4</td>\n",
       "    </tr>\n",
       "    <tr>\n",
       "      <th>3</th>\n",
       "      <td>6.0</td>\n",
       "      <td>4.0</td>\n",
       "      <td>PALO ALTO</td>\n",
       "      <td>3800000</td>\n",
       "      <td>3645.0</td>\n",
       "      <td>10080</td>\n",
       "      <td>1956.0</td>\n",
       "      <td>1043.0</td>\n",
       "      <td>4</td>\n",
       "    </tr>\n",
       "    <tr>\n",
       "      <th>4</th>\n",
       "      <td>5.0</td>\n",
       "      <td>5.5</td>\n",
       "      <td>PALO ALTO</td>\n",
       "      <td>2400000</td>\n",
       "      <td>3600.0</td>\n",
       "      <td>9600</td>\n",
       "      <td>2020.0</td>\n",
       "      <td>667.0</td>\n",
       "      <td>4</td>\n",
       "    </tr>\n",
       "    <tr>\n",
       "      <th>...</th>\n",
       "      <td>...</td>\n",
       "      <td>...</td>\n",
       "      <td>...</td>\n",
       "      <td>...</td>\n",
       "      <td>...</td>\n",
       "      <td>...</td>\n",
       "      <td>...</td>\n",
       "      <td>...</td>\n",
       "      <td>...</td>\n",
       "    </tr>\n",
       "    <tr>\n",
       "      <th>177</th>\n",
       "      <td>5.0</td>\n",
       "      <td>4.0</td>\n",
       "      <td>PALO ALTO</td>\n",
       "      <td>4200000</td>\n",
       "      <td>3197.0</td>\n",
       "      <td>8903</td>\n",
       "      <td>2021.0</td>\n",
       "      <td>1314.0</td>\n",
       "      <td>4</td>\n",
       "    </tr>\n",
       "    <tr>\n",
       "      <th>178</th>\n",
       "      <td>4.0</td>\n",
       "      <td>3.0</td>\n",
       "      <td>PALO ALTO</td>\n",
       "      <td>5700000</td>\n",
       "      <td>3195.0</td>\n",
       "      <td>11332</td>\n",
       "      <td>1941.0</td>\n",
       "      <td>1784.0</td>\n",
       "      <td>4</td>\n",
       "    </tr>\n",
       "    <tr>\n",
       "      <th>179</th>\n",
       "      <td>5.0</td>\n",
       "      <td>3.0</td>\n",
       "      <td>PALO ALTO</td>\n",
       "      <td>5000000</td>\n",
       "      <td>3190.0</td>\n",
       "      <td>8678</td>\n",
       "      <td>1988.0</td>\n",
       "      <td>1567.0</td>\n",
       "      <td>4</td>\n",
       "    </tr>\n",
       "    <tr>\n",
       "      <th>180</th>\n",
       "      <td>3.0</td>\n",
       "      <td>3.0</td>\n",
       "      <td>PALO ALTO</td>\n",
       "      <td>6000000</td>\n",
       "      <td>3188.0</td>\n",
       "      <td>13113</td>\n",
       "      <td>1928.0</td>\n",
       "      <td>1882.0</td>\n",
       "      <td>4</td>\n",
       "    </tr>\n",
       "    <tr>\n",
       "      <th>181</th>\n",
       "      <td>4.0</td>\n",
       "      <td>3.5</td>\n",
       "      <td>PALO ALTO</td>\n",
       "      <td>3280000</td>\n",
       "      <td>3184.0</td>\n",
       "      <td>40003</td>\n",
       "      <td>1963.0</td>\n",
       "      <td>1030.0</td>\n",
       "      <td>4</td>\n",
       "    </tr>\n",
       "  </tbody>\n",
       "</table>\n",
       "<p>182 rows × 9 columns</p>\n",
       "</div>"
      ],
      "text/plain": [
       "     BEDS  BATHS       CITY    PRICE  SQUARE FEET  LOT SIZE  YEAR BUILT  \\\n",
       "0     5.0    4.0  PALO ALTO  7200000       4358.0     14709      1931.0   \n",
       "1     5.0    4.5  PALO ALTO  4490000       3486.0      7500      1940.0   \n",
       "2     6.0    5.5  PALO ALTO  5000000       3408.0      9198      2017.0   \n",
       "3     6.0    4.0  PALO ALTO  3800000       3645.0     10080      1956.0   \n",
       "4     5.0    5.5  PALO ALTO  2400000       3600.0      9600      2020.0   \n",
       "..    ...    ...        ...      ...          ...       ...         ...   \n",
       "177   5.0    4.0  PALO ALTO  4200000       3197.0      8903      2021.0   \n",
       "178   4.0    3.0  PALO ALTO  5700000       3195.0     11332      1941.0   \n",
       "179   5.0    3.0  PALO ALTO  5000000       3190.0      8678      1988.0   \n",
       "180   3.0    3.0  PALO ALTO  6000000       3188.0     13113      1928.0   \n",
       "181   4.0    3.5  PALO ALTO  3280000       3184.0     40003      1963.0   \n",
       "\n",
       "     $/SQUARE FEET  city_label  \n",
       "0           1652.0           4  \n",
       "1           1288.0           4  \n",
       "2           1467.0           4  \n",
       "3           1043.0           4  \n",
       "4            667.0           4  \n",
       "..             ...         ...  \n",
       "177         1314.0           4  \n",
       "178         1784.0           4  \n",
       "179         1567.0           4  \n",
       "180         1882.0           4  \n",
       "181         1030.0           4  \n",
       "\n",
       "[182 rows x 9 columns]"
      ]
     },
     "execution_count": 21,
     "metadata": {},
     "output_type": "execute_result"
    }
   ],
   "source": [
    "df[\"city_label\"] = city_label\n",
    "df"
   ]
  },
  {
   "cell_type": "code",
   "execution_count": 22,
   "id": "db4697fc-c6ee-4558-8ef2-b7f0f563033a",
   "metadata": {},
   "outputs": [
    {
     "name": "stdout",
     "output_type": "stream",
     "text": [
      "PALO ALTO: 4\n",
      "LOS ALTOS HILLS: 2\n",
      "STANFORD: 6\n",
      "MENLO PARK: 3\n",
      "EAST PALO ALTO: 0\n",
      "LOS ALTOS: 1\n",
      "PORTOLA VALLEY: 5\n"
     ]
    }
   ],
   "source": [
    "# find out which city is labeled with what label (number)\n",
    "for city in df[\"CITY\"].unique():\n",
    "    print(\"{}: {}\".format(city, df[df['CITY'] == city].city_label.iloc[0]))\n"
   ]
  },
  {
   "cell_type": "code",
   "execution_count": 24,
   "id": "31e1152c-65da-45ea-ac42-21a35c5a71ab",
   "metadata": {},
   "outputs": [
    {
     "data": {
      "text/plain": [
       "0      7200000\n",
       "1      4490000\n",
       "2      5000000\n",
       "3      3800000\n",
       "4      2400000\n",
       "        ...   \n",
       "177    4200000\n",
       "178    5700000\n",
       "179    5000000\n",
       "180    6000000\n",
       "181    3280000\n",
       "Name: PRICE, Length: 182, dtype: int64"
      ]
     },
     "execution_count": 24,
     "metadata": {},
     "output_type": "execute_result"
    }
   ],
   "source": [
    "# exclude from PRICE from x features. drop the CITY, city_label, PRICE columns, no more needed\n",
    "df_y=df[y_label]\n",
    "df_y"
   ]
  },
  {
   "cell_type": "code",
   "execution_count": 25,
   "id": "490dae2c-0789-41ac-9cd3-dfd0a9ea39b8",
   "metadata": {},
   "outputs": [],
   "source": [
    "df.drop([\"city_label\", \"CITY\", \"PRICE\"], axis=1, inplace=True)"
   ]
  },
  {
   "cell_type": "code",
   "execution_count": 26,
   "id": "b2212e56-ae73-4a3f-9c68-5719abba938c",
   "metadata": {},
   "outputs": [
    {
     "data": {
      "text/html": [
       "<div>\n",
       "<style scoped>\n",
       "    .dataframe tbody tr th:only-of-type {\n",
       "        vertical-align: middle;\n",
       "    }\n",
       "\n",
       "    .dataframe tbody tr th {\n",
       "        vertical-align: top;\n",
       "    }\n",
       "\n",
       "    .dataframe thead th {\n",
       "        text-align: right;\n",
       "    }\n",
       "</style>\n",
       "<table border=\"1\" class=\"dataframe\">\n",
       "  <thead>\n",
       "    <tr style=\"text-align: right;\">\n",
       "      <th></th>\n",
       "      <th>EPA</th>\n",
       "      <th>LA</th>\n",
       "      <th>LAH</th>\n",
       "      <th>MP</th>\n",
       "      <th>PA</th>\n",
       "      <th>PV</th>\n",
       "      <th>STAN</th>\n",
       "    </tr>\n",
       "  </thead>\n",
       "  <tbody>\n",
       "    <tr>\n",
       "      <th>0</th>\n",
       "      <td>0.0</td>\n",
       "      <td>0.0</td>\n",
       "      <td>0.0</td>\n",
       "      <td>0.0</td>\n",
       "      <td>1.0</td>\n",
       "      <td>0.0</td>\n",
       "      <td>0.0</td>\n",
       "    </tr>\n",
       "    <tr>\n",
       "      <th>1</th>\n",
       "      <td>0.0</td>\n",
       "      <td>0.0</td>\n",
       "      <td>0.0</td>\n",
       "      <td>0.0</td>\n",
       "      <td>1.0</td>\n",
       "      <td>0.0</td>\n",
       "      <td>0.0</td>\n",
       "    </tr>\n",
       "    <tr>\n",
       "      <th>2</th>\n",
       "      <td>0.0</td>\n",
       "      <td>0.0</td>\n",
       "      <td>0.0</td>\n",
       "      <td>0.0</td>\n",
       "      <td>1.0</td>\n",
       "      <td>0.0</td>\n",
       "      <td>0.0</td>\n",
       "    </tr>\n",
       "    <tr>\n",
       "      <th>3</th>\n",
       "      <td>0.0</td>\n",
       "      <td>0.0</td>\n",
       "      <td>0.0</td>\n",
       "      <td>0.0</td>\n",
       "      <td>1.0</td>\n",
       "      <td>0.0</td>\n",
       "      <td>0.0</td>\n",
       "    </tr>\n",
       "    <tr>\n",
       "      <th>4</th>\n",
       "      <td>0.0</td>\n",
       "      <td>0.0</td>\n",
       "      <td>0.0</td>\n",
       "      <td>0.0</td>\n",
       "      <td>1.0</td>\n",
       "      <td>0.0</td>\n",
       "      <td>0.0</td>\n",
       "    </tr>\n",
       "  </tbody>\n",
       "</table>\n",
       "</div>"
      ],
      "text/plain": [
       "   EPA   LA  LAH   MP   PA   PV  STAN\n",
       "0  0.0  0.0  0.0  0.0  1.0  0.0   0.0\n",
       "1  0.0  0.0  0.0  0.0  1.0  0.0   0.0\n",
       "2  0.0  0.0  0.0  0.0  1.0  0.0   0.0\n",
       "3  0.0  0.0  0.0  0.0  1.0  0.0   0.0\n",
       "4  0.0  0.0  0.0  0.0  1.0  0.0   0.0"
      ]
     },
     "execution_count": 26,
     "metadata": {},
     "output_type": "execute_result"
    }
   ],
   "source": [
    "#now one hot encoding part \n",
    "\n",
    "city_df = pd.DataFrame(OneHotEncoder(categories=\"auto\").fit_transform(city_label.reshape(-1, 1)).toarray(), columns=[\"EPA\", \"LA\", \"LAH\", \"MP\", \"PA\", \"PV\", \"STAN\"])\n",
    "city_df.head()"
   ]
  },
  {
   "cell_type": "code",
   "execution_count": 27,
   "id": "e83c4ac0-e747-42ae-9fcb-dd20434a9456",
   "metadata": {},
   "outputs": [
    {
     "name": "stdout",
     "output_type": "stream",
     "text": [
      "(182, 6)\n",
      "(182, 7)\n"
     ]
    }
   ],
   "source": [
    "# before concating, find the shapes of the two data frame (original df, one-hot encoded df) and see the # rows are matching\n",
    "\n",
    "print(df.shape)\n",
    "print(city_df.shape) #their rows match"
   ]
  },
  {
   "cell_type": "code",
   "execution_count": 28,
   "id": "bd6f66c9-f29c-47b5-9b5f-02451c962d37",
   "metadata": {},
   "outputs": [
    {
     "data": {
      "text/html": [
       "<div>\n",
       "<style scoped>\n",
       "    .dataframe tbody tr th:only-of-type {\n",
       "        vertical-align: middle;\n",
       "    }\n",
       "\n",
       "    .dataframe tbody tr th {\n",
       "        vertical-align: top;\n",
       "    }\n",
       "\n",
       "    .dataframe thead th {\n",
       "        text-align: right;\n",
       "    }\n",
       "</style>\n",
       "<table border=\"1\" class=\"dataframe\">\n",
       "  <thead>\n",
       "    <tr style=\"text-align: right;\">\n",
       "      <th></th>\n",
       "      <th>BEDS</th>\n",
       "      <th>BATHS</th>\n",
       "      <th>SQUARE FEET</th>\n",
       "      <th>LOT SIZE</th>\n",
       "      <th>YEAR BUILT</th>\n",
       "      <th>$/SQUARE FEET</th>\n",
       "      <th>EPA</th>\n",
       "      <th>LA</th>\n",
       "      <th>LAH</th>\n",
       "      <th>MP</th>\n",
       "      <th>PA</th>\n",
       "      <th>PV</th>\n",
       "      <th>STAN</th>\n",
       "    </tr>\n",
       "  </thead>\n",
       "  <tbody>\n",
       "    <tr>\n",
       "      <th>0</th>\n",
       "      <td>5.0</td>\n",
       "      <td>4.0</td>\n",
       "      <td>4358.0</td>\n",
       "      <td>14709</td>\n",
       "      <td>1931.0</td>\n",
       "      <td>1652.0</td>\n",
       "      <td>0.0</td>\n",
       "      <td>0.0</td>\n",
       "      <td>0.0</td>\n",
       "      <td>0.0</td>\n",
       "      <td>1.0</td>\n",
       "      <td>0.0</td>\n",
       "      <td>0.0</td>\n",
       "    </tr>\n",
       "    <tr>\n",
       "      <th>1</th>\n",
       "      <td>5.0</td>\n",
       "      <td>4.5</td>\n",
       "      <td>3486.0</td>\n",
       "      <td>7500</td>\n",
       "      <td>1940.0</td>\n",
       "      <td>1288.0</td>\n",
       "      <td>0.0</td>\n",
       "      <td>0.0</td>\n",
       "      <td>0.0</td>\n",
       "      <td>0.0</td>\n",
       "      <td>1.0</td>\n",
       "      <td>0.0</td>\n",
       "      <td>0.0</td>\n",
       "    </tr>\n",
       "    <tr>\n",
       "      <th>2</th>\n",
       "      <td>6.0</td>\n",
       "      <td>5.5</td>\n",
       "      <td>3408.0</td>\n",
       "      <td>9198</td>\n",
       "      <td>2017.0</td>\n",
       "      <td>1467.0</td>\n",
       "      <td>0.0</td>\n",
       "      <td>0.0</td>\n",
       "      <td>0.0</td>\n",
       "      <td>0.0</td>\n",
       "      <td>1.0</td>\n",
       "      <td>0.0</td>\n",
       "      <td>0.0</td>\n",
       "    </tr>\n",
       "    <tr>\n",
       "      <th>3</th>\n",
       "      <td>6.0</td>\n",
       "      <td>4.0</td>\n",
       "      <td>3645.0</td>\n",
       "      <td>10080</td>\n",
       "      <td>1956.0</td>\n",
       "      <td>1043.0</td>\n",
       "      <td>0.0</td>\n",
       "      <td>0.0</td>\n",
       "      <td>0.0</td>\n",
       "      <td>0.0</td>\n",
       "      <td>1.0</td>\n",
       "      <td>0.0</td>\n",
       "      <td>0.0</td>\n",
       "    </tr>\n",
       "    <tr>\n",
       "      <th>4</th>\n",
       "      <td>5.0</td>\n",
       "      <td>5.5</td>\n",
       "      <td>3600.0</td>\n",
       "      <td>9600</td>\n",
       "      <td>2020.0</td>\n",
       "      <td>667.0</td>\n",
       "      <td>0.0</td>\n",
       "      <td>0.0</td>\n",
       "      <td>0.0</td>\n",
       "      <td>0.0</td>\n",
       "      <td>1.0</td>\n",
       "      <td>0.0</td>\n",
       "      <td>0.0</td>\n",
       "    </tr>\n",
       "  </tbody>\n",
       "</table>\n",
       "</div>"
      ],
      "text/plain": [
       "   BEDS  BATHS  SQUARE FEET  LOT SIZE  YEAR BUILT  $/SQUARE FEET  EPA   LA  \\\n",
       "0   5.0    4.0       4358.0     14709      1931.0         1652.0  0.0  0.0   \n",
       "1   5.0    4.5       3486.0      7500      1940.0         1288.0  0.0  0.0   \n",
       "2   6.0    5.5       3408.0      9198      2017.0         1467.0  0.0  0.0   \n",
       "3   6.0    4.0       3645.0     10080      1956.0         1043.0  0.0  0.0   \n",
       "4   5.0    5.5       3600.0      9600      2020.0          667.0  0.0  0.0   \n",
       "\n",
       "   LAH   MP   PA   PV  STAN  \n",
       "0  0.0  0.0  1.0  0.0   0.0  \n",
       "1  0.0  0.0  1.0  0.0   0.0  \n",
       "2  0.0  0.0  1.0  0.0   0.0  \n",
       "3  0.0  0.0  1.0  0.0   0.0  \n",
       "4  0.0  0.0  1.0  0.0   0.0  "
      ]
     },
     "execution_count": 28,
     "metadata": {},
     "output_type": "execute_result"
    }
   ],
   "source": [
    "df = pd.concat([df, city_df], axis=1, verify_integrity=True)\n",
    "df.head()"
   ]
  },
  {
   "cell_type": "code",
   "execution_count": 29,
   "id": "aa0ba384-c9f7-4323-a0d4-6384abf1c931",
   "metadata": {},
   "outputs": [
    {
     "data": {
      "text/html": [
       "<div>\n",
       "<style scoped>\n",
       "    .dataframe tbody tr th:only-of-type {\n",
       "        vertical-align: middle;\n",
       "    }\n",
       "\n",
       "    .dataframe tbody tr th {\n",
       "        vertical-align: top;\n",
       "    }\n",
       "\n",
       "    .dataframe thead th {\n",
       "        text-align: right;\n",
       "    }\n",
       "</style>\n",
       "<table border=\"1\" class=\"dataframe\">\n",
       "  <thead>\n",
       "    <tr style=\"text-align: right;\">\n",
       "      <th></th>\n",
       "      <th>BEDS</th>\n",
       "      <th>BATHS</th>\n",
       "      <th>SQUARE FEET</th>\n",
       "      <th>LOT SIZE</th>\n",
       "      <th>YEAR BUILT</th>\n",
       "      <th>$/SQUARE FEET</th>\n",
       "      <th>EPA</th>\n",
       "      <th>LA</th>\n",
       "      <th>LAH</th>\n",
       "      <th>MP</th>\n",
       "      <th>PA</th>\n",
       "      <th>PV</th>\n",
       "      <th>STAN</th>\n",
       "      <th>BATH/BED RATIO</th>\n",
       "    </tr>\n",
       "  </thead>\n",
       "  <tbody>\n",
       "    <tr>\n",
       "      <th>0</th>\n",
       "      <td>5.0</td>\n",
       "      <td>4.0</td>\n",
       "      <td>4358.0</td>\n",
       "      <td>14709</td>\n",
       "      <td>1931.0</td>\n",
       "      <td>1652.0</td>\n",
       "      <td>0.0</td>\n",
       "      <td>0.0</td>\n",
       "      <td>0.0</td>\n",
       "      <td>0.0</td>\n",
       "      <td>1.0</td>\n",
       "      <td>0.0</td>\n",
       "      <td>0.0</td>\n",
       "      <td>0.800000</td>\n",
       "    </tr>\n",
       "    <tr>\n",
       "      <th>1</th>\n",
       "      <td>5.0</td>\n",
       "      <td>4.5</td>\n",
       "      <td>3486.0</td>\n",
       "      <td>7500</td>\n",
       "      <td>1940.0</td>\n",
       "      <td>1288.0</td>\n",
       "      <td>0.0</td>\n",
       "      <td>0.0</td>\n",
       "      <td>0.0</td>\n",
       "      <td>0.0</td>\n",
       "      <td>1.0</td>\n",
       "      <td>0.0</td>\n",
       "      <td>0.0</td>\n",
       "      <td>0.900000</td>\n",
       "    </tr>\n",
       "    <tr>\n",
       "      <th>2</th>\n",
       "      <td>6.0</td>\n",
       "      <td>5.5</td>\n",
       "      <td>3408.0</td>\n",
       "      <td>9198</td>\n",
       "      <td>2017.0</td>\n",
       "      <td>1467.0</td>\n",
       "      <td>0.0</td>\n",
       "      <td>0.0</td>\n",
       "      <td>0.0</td>\n",
       "      <td>0.0</td>\n",
       "      <td>1.0</td>\n",
       "      <td>0.0</td>\n",
       "      <td>0.0</td>\n",
       "      <td>0.916667</td>\n",
       "    </tr>\n",
       "    <tr>\n",
       "      <th>3</th>\n",
       "      <td>6.0</td>\n",
       "      <td>4.0</td>\n",
       "      <td>3645.0</td>\n",
       "      <td>10080</td>\n",
       "      <td>1956.0</td>\n",
       "      <td>1043.0</td>\n",
       "      <td>0.0</td>\n",
       "      <td>0.0</td>\n",
       "      <td>0.0</td>\n",
       "      <td>0.0</td>\n",
       "      <td>1.0</td>\n",
       "      <td>0.0</td>\n",
       "      <td>0.0</td>\n",
       "      <td>0.666667</td>\n",
       "    </tr>\n",
       "    <tr>\n",
       "      <th>4</th>\n",
       "      <td>5.0</td>\n",
       "      <td>5.5</td>\n",
       "      <td>3600.0</td>\n",
       "      <td>9600</td>\n",
       "      <td>2020.0</td>\n",
       "      <td>667.0</td>\n",
       "      <td>0.0</td>\n",
       "      <td>0.0</td>\n",
       "      <td>0.0</td>\n",
       "      <td>0.0</td>\n",
       "      <td>1.0</td>\n",
       "      <td>0.0</td>\n",
       "      <td>0.0</td>\n",
       "      <td>1.100000</td>\n",
       "    </tr>\n",
       "  </tbody>\n",
       "</table>\n",
       "</div>"
      ],
      "text/plain": [
       "   BEDS  BATHS  SQUARE FEET  LOT SIZE  YEAR BUILT  $/SQUARE FEET  EPA   LA  \\\n",
       "0   5.0    4.0       4358.0     14709      1931.0         1652.0  0.0  0.0   \n",
       "1   5.0    4.5       3486.0      7500      1940.0         1288.0  0.0  0.0   \n",
       "2   6.0    5.5       3408.0      9198      2017.0         1467.0  0.0  0.0   \n",
       "3   6.0    4.0       3645.0     10080      1956.0         1043.0  0.0  0.0   \n",
       "4   5.0    5.5       3600.0      9600      2020.0          667.0  0.0  0.0   \n",
       "\n",
       "   LAH   MP   PA   PV  STAN  BATH/BED RATIO  \n",
       "0  0.0  0.0  1.0  0.0   0.0        0.800000  \n",
       "1  0.0  0.0  1.0  0.0   0.0        0.900000  \n",
       "2  0.0  0.0  1.0  0.0   0.0        0.916667  \n",
       "3  0.0  0.0  1.0  0.0   0.0        0.666667  \n",
       "4  0.0  0.0  1.0  0.0   0.0        1.100000  "
      ]
     },
     "execution_count": 29,
     "metadata": {},
     "output_type": "execute_result"
    }
   ],
   "source": [
    "#3. try adding my own feature, bath-bed ratio. seems positive correlation \n",
    "df[\"BATH/BED RATIO\"] = df[\"BATHS\"]/df[\"BEDS\"]\n",
    "df.head()"
   ]
  },
  {
   "cell_type": "code",
   "execution_count": 30,
   "id": "b05239f6-e61c-44db-8b1d-18b7c01ba7f1",
   "metadata": {},
   "outputs": [
    {
     "name": "stdout",
     "output_type": "stream",
     "text": [
      "<class 'pandas.core.frame.DataFrame'>\n",
      "RangeIndex: 182 entries, 0 to 181\n",
      "Data columns (total 14 columns):\n",
      " #   Column          Non-Null Count  Dtype  \n",
      "---  ------          --------------  -----  \n",
      " 0   BEDS            182 non-null    float64\n",
      " 1   BATHS           182 non-null    float64\n",
      " 2   SQUARE FEET     182 non-null    float64\n",
      " 3   LOT SIZE        182 non-null    int64  \n",
      " 4   YEAR BUILT      182 non-null    float64\n",
      " 5   $/SQUARE FEET   182 non-null    float64\n",
      " 6   EPA             182 non-null    float64\n",
      " 7   LA              182 non-null    float64\n",
      " 8   LAH             182 non-null    float64\n",
      " 9   MP              182 non-null    float64\n",
      " 10  PA              182 non-null    float64\n",
      " 11  PV              182 non-null    float64\n",
      " 12  STAN            182 non-null    float64\n",
      " 13  BATH/BED RATIO  182 non-null    float64\n",
      "dtypes: float64(13), int64(1)\n",
      "memory usage: 20.0 KB\n"
     ]
    }
   ],
   "source": [
    "df.info() #182, 14"
   ]
  },
  {
   "cell_type": "code",
   "execution_count": 31,
   "id": "4ec6b8f3-2c36-48e9-bc06-1155e75eda2f",
   "metadata": {},
   "outputs": [],
   "source": [
    "#4. split training and testing\n",
    "\n",
    "from sklearn.model_selection import train_test_split"
   ]
  },
  {
   "cell_type": "code",
   "execution_count": 33,
   "id": "9e54761f-cc4e-45d4-a019-3b721c8f3326",
   "metadata": {},
   "outputs": [
    {
     "name": "stdout",
     "output_type": "stream",
     "text": [
      "(182,)\n",
      "(182, 14)\n"
     ]
    }
   ],
   "source": [
    "#check the features and label before continuing\n",
    "\n",
    "print(df_y.shape)\n",
    "print(df.shape) "
   ]
  },
  {
   "cell_type": "code",
   "execution_count": 34,
   "id": "dbfacbaa-94c6-47ff-b2e8-53dff6651130",
   "metadata": {},
   "outputs": [],
   "source": [
    "X_train, X_test, y_train, y_test = train_test_split(df, df_y, test_size=0.2)"
   ]
  },
  {
   "cell_type": "code",
   "execution_count": 35,
   "id": "1d45b4ba-9ff9-41a7-b44e-a8bca42edf82",
   "metadata": {},
   "outputs": [
    {
     "name": "stdout",
     "output_type": "stream",
     "text": [
      "(145, 14)\n",
      "(37, 14)\n",
      "(145,)\n",
      "(37,)\n"
     ]
    }
   ],
   "source": [
    "#check the split shape\n",
    "print(X_train.shape)\n",
    "print(X_test.shape)\n",
    "print(y_train.shape)\n",
    "print(y_test.shape)"
   ]
  },
  {
   "cell_type": "code",
   "execution_count": 36,
   "id": "1aa44c84-97c3-4174-8643-24c517f4710a",
   "metadata": {},
   "outputs": [],
   "source": [
    "#5, 6. Fit the training set to the sk linear regression model\n",
    "\n",
    "import sklearn.linear_model\n",
    "\n",
    "reg = sklearn.linear_model.LinearRegression()\n",
    "fit = reg.fit(X_train, y_train)"
   ]
  },
  {
   "cell_type": "code",
   "execution_count": 37,
   "id": "fc202118-3cf0-47db-9f54-72ca788ef78e",
   "metadata": {},
   "outputs": [
    {
     "data": {
      "text/plain": [
       "array([ 5.31454701e+04, -5.39853769e+05,  1.90638204e+03, -4.53229673e+00,\n",
       "        1.01960281e+04,  5.38264558e+03,  3.24482498e+06, -4.03419719e+05,\n",
       "       -3.28113686e+05, -1.19416477e+06, -7.19904133e+05, -5.99222679e+05,\n",
       "        0.00000000e+00,  1.50562113e+05])"
      ]
     },
     "execution_count": 37,
     "metadata": {},
     "output_type": "execute_result"
    }
   ],
   "source": [
    "# check basic stats\n",
    "\n",
    "fit.coef_ #how strong a relationship is between two variables, the categorical variables(multinomial variables) are not qualified for coefficients"
   ]
  },
  {
   "cell_type": "code",
   "execution_count": 38,
   "id": "55cc5607-c9b2-4335-a3fd-3682e1ed7f9e",
   "metadata": {},
   "outputs": [
    {
     "data": {
      "text/plain": [
       "-27045210.898157045"
      ]
     },
     "execution_count": 38,
     "metadata": {},
     "output_type": "execute_result"
    }
   ],
   "source": [
    "fit.intercept_ "
   ]
  },
  {
   "cell_type": "code",
   "execution_count": 39,
   "id": "84d9754f-a6b9-4d1b-9a7f-1dad1f2ef600",
   "metadata": {},
   "outputs": [
    {
     "data": {
      "text/plain": [
       "array([ 8298518.76576596,  9154872.7918533 ,  2955324.79987828,\n",
       "       10110973.28159745,  4918875.57850214,  5095185.73151953,\n",
       "        3911053.7629797 ,  7457549.38418023, 18178045.46852851,\n",
       "        9286122.57144127,  6340688.64864206,  1827866.76249621,\n",
       "       10336258.12391712,  1856072.41567828,   702701.63202494,\n",
       "        5162875.22351691,  7518848.24002348, 10021129.62887828,\n",
       "        2739441.26470211,  4436652.63816658,  7337059.20352124,\n",
       "        2543304.87684299, 11763686.00722171,  4384331.46528463,\n",
       "        6982321.4571313 ,  3034225.70556486,  5144914.0243738 ,\n",
       "       13355982.65872914,  6570679.272405  ,  3943843.80116004,\n",
       "       13571991.76305963,  4517950.82049902,  7045439.26732441,\n",
       "        4200781.10139633,  2980016.38205053,  4095161.06173896,\n",
       "       10799991.94048034])"
      ]
     },
     "execution_count": 39,
     "metadata": {},
     "output_type": "execute_result"
    }
   ],
   "source": [
    "#7. Apply predict on testing \n",
    "df_pred = fit.predict(X_test)\n",
    "df_pred"
   ]
  },
  {
   "cell_type": "code",
   "execution_count": 40,
   "id": "c28546cd-09c1-43e9-9298-c5fa43add85e",
   "metadata": {},
   "outputs": [
    {
     "data": {
      "text/plain": [
       "(0.9310001169106874, 6.872330488901666e-17)"
      ]
     },
     "execution_count": 40,
     "metadata": {},
     "output_type": "execute_result"
    }
   ],
   "source": [
    "#8. Find the stats on prediction - pearsonr and resisuals\n",
    "\n",
    "import scipy.stats\n",
    "\n",
    "scipy.stats.pearsonr(df_pred, y_test) #0.93 correlation, p-value is very low, meaning statistically significant"
   ]
  },
  {
   "cell_type": "code",
   "execution_count": 41,
   "id": "347d3906-76c0-4a8c-8f3b-85dc450ae193",
   "metadata": {},
   "outputs": [
    {
     "data": {
      "text/plain": [
       "<AxesSubplot:ylabel='PRICE'>"
      ]
     },
     "execution_count": 41,
     "metadata": {},
     "output_type": "execute_result"
    },
    {
     "data": {
      "image/png": "[encoded data removed]",
      "text/plain": [
       "<Figure size 432x288 with 1 Axes>"
      ]
     },
     "metadata": {
      "needs_background": "light"
     },
     "output_type": "display_data"
    }
   ],
   "source": [
    "#9. Visualize resisuals\n",
    "\n",
    "import seaborn\n",
    "\n",
    "%matplotlib inline\n",
    "seaborn.scatterplot(x = df_pred, y = y_test)"
   ]
  },
  {
   "cell_type": "code",
   "execution_count": 42,
   "id": "06e0c87d-e3f5-4722-83d6-73f1785f3ccd",
   "metadata": {},
   "outputs": [
    {
     "data": {
      "text/plain": [
       "(1, 14)"
      ]
     },
     "execution_count": 42,
     "metadata": {},
     "output_type": "execute_result"
    }
   ],
   "source": [
    "#10. Try the house I am considering to this model and see the prediction. This house has 4 bedrooms, 2.5 bathrooms, about 1800sq of living space, lot size of 6000 sq, located in palo alto. \n",
    "#BEDS\tBATHS\tSQUARE FEET\tLOT SIZE\tYEAR BUILT\t$/SQUARE FEET\tEPA\tLA\tLAH\tMP\tPA\tPV\tSTAN\tBATH/BED RATIO\n",
    "\n",
    "house_candidate = np.array([4, 2.5, 1800, 6000, 1960, 1500, 0.0, 0.0, 0.0, 0.0, 1.0, 0.0, 0.0, 0.625]).reshape(1, 14)\n",
    "house_candidate.shape"
   ]
  },
  {
   "cell_type": "code",
   "execution_count": 43,
   "id": "db247edd-67f9-463c-ad72-8f4eea40c91a",
   "metadata": {},
   "outputs": [
    {
     "data": {
      "text/plain": [
       "array([2654411.13492236])"
      ]
     },
     "execution_count": 43,
     "metadata": {},
     "output_type": "execute_result"
    }
   ],
   "source": [
    "est = fit.predict(house_candidate)\n",
    "est"
   ]
  },
  {
   "cell_type": "markdown",
   "id": "ab156c6a-1d2f-45b0-bb36-de2c43d0719c",
   "metadata": {},
   "source": [
    "## Conclusion:\n",
    "### The predicted house price came out to be a little over 2.6 million. \n",
    "### We purchased this house at 2.8 million, meaning we paid appx $200,000 more than the estimation according to my model."
   ]
  },
  {
   "cell_type": "code",
   "execution_count": 58,
   "id": "ea8fc595-c69a-4145-b58b-c1a20892f725",
   "metadata": {},
   "outputs": [
    {
     "data": {
      "text/plain": [
       "BEDS                 7.000000\n",
       "BATHS                6.000000\n",
       "SQUARE FEET       3150.000000\n",
       "LOT SIZE          6000.000000\n",
       "YEAR BUILT        1952.000000\n",
       "$/SQUARE FEET      295.000000\n",
       "EPA                  1.000000\n",
       "LA                   0.000000\n",
       "LAH                  0.000000\n",
       "MP                   0.000000\n",
       "PA                   0.000000\n",
       "PV                   0.000000\n",
       "STAN                 0.000000\n",
       "BATH/BED RATIO       0.857143\n",
       "Name: 53, dtype: float64"
      ]
     },
     "execution_count": 58,
     "metadata": {},
     "output_type": "execute_result"
    }
   ],
   "source": [
    "#In the scatterplot, there are 2 datapoints that seem outliers. What are they?\n",
    "\n",
    "df.iloc[df_y.argmin()] "
   ]
  },
  {
   "cell_type": "code",
   "execution_count": 59,
   "id": "19406c6c-4f27-4778-8496-b531cea55dbf",
   "metadata": {},
   "outputs": [
    {
     "data": {
      "text/plain": [
       "SALE TYPE                                                                                                                              PAST SALE\n",
       "SOLD YEAR                                                                                                                                 2018.0\n",
       "CITY                                                                                                                              EAST PALO ALTO\n",
       "STATE OR PROVINCE                                                                                                                             CA\n",
       "ZIP OR POSTAL CODE                                                                                                                         94303\n",
       "PRICE                                                                                                                                     930000\n",
       "BEDS                                                                                                                                         7.0\n",
       "BATHS                                                                                                                                        6.0\n",
       "LOCATION                                                                                                                          EAST PALO ALTO\n",
       "SQUARE FEET                                                                                                                               3150.0\n",
       "LOT SIZE                                                                                                                                    6000\n",
       "YEAR BUILT                                                                                                                                1952.0\n",
       "DAYS ON MARKET                                                                                                                               NaN\n",
       "$/SQUARE FEET                                                                                                                              295.0\n",
       "HOA/MONTH                                                                                                                                    NaN\n",
       "STATUS                                                                                                                                      Sold\n",
       "NEXT OPEN HOUSE START TIME                                                                                                                   NaN\n",
       "NEXT OPEN HOUSE END TIME                                                                                                                     NaN\n",
       "URL (SEE https://www.redfin.com/buy-a-home/comparative-market-analysis FOR INFO ON PRICING)    https://www.redfin.com/CA/East-Palo-Alto/116-D...\n",
       "SOURCE                                                                                                                               MLSListings\n",
       "MLS#                                                                                                                                  ML81687732\n",
       "FAVORITE                                                                                                                                       N\n",
       "INTERESTED                                                                                                                                     Y\n",
       "LATITUDE                                                                                                                                37.45406\n",
       "LONGITUDE                                                                                                                             -122.12335\n",
       "Name: 53, dtype: object"
      ]
     },
     "execution_count": 59,
     "metadata": {},
     "output_type": "execute_result"
    }
   ],
   "source": [
    "df_raw.iloc[df_y.argmin()] #It seems this house was relatively cheap due to CITY, east palo alto. 6000 lot size with 7 bedrooms & 6 bathrooms looks a bit odd, too."
   ]
  },
  {
   "cell_type": "code",
   "execution_count": 62,
   "id": "a02e1521-667d-42f4-b246-e779b1d025c0",
   "metadata": {},
   "outputs": [
    {
     "data": {
      "text/plain": [
       "39988000"
      ]
     },
     "execution_count": 62,
     "metadata": {},
     "output_type": "execute_result"
    }
   ],
   "source": [
    "df_y.max() #39 million, outlier "
   ]
  },
  {
   "cell_type": "code",
   "execution_count": 61,
   "id": "d9876c3d-f145-4c86-a010-559dd794b604",
   "metadata": {},
   "outputs": [
    {
     "data": {
      "text/plain": [
       "SALE TYPE                                                                                                                              PAST SALE\n",
       "SOLD YEAR                                                                                                                                    NaN\n",
       "CITY                                                                                                                                   Palo Alto\n",
       "STATE OR PROVINCE                                                                                                                             CA\n",
       "ZIP OR POSTAL CODE                                                                                                                         94301\n",
       "PRICE                                                                                                                                   39988000\n",
       "BEDS                                                                                                                                         5.0\n",
       "BATHS                                                                                                                                        5.0\n",
       "LOCATION                                                                                                                                     NaN\n",
       "SQUARE FEET                                                                                                                              10877.0\n",
       "LOT SIZE                                                                                                                                   48925\n",
       "YEAR BUILT                                                                                                                                2017.0\n",
       "DAYS ON MARKET                                                                                                                               NaN\n",
       "$/SQUARE FEET                                                                                                                             3676.0\n",
       "HOA/MONTH                                                                                                                                    NaN\n",
       "STATUS                                                                                                                                       NaN\n",
       "NEXT OPEN HOUSE START TIME                                                                                                                   NaN\n",
       "NEXT OPEN HOUSE END TIME                                                                                                                     NaN\n",
       "URL (SEE https://www.redfin.com/buy-a-home/comparative-market-analysis FOR INFO ON PRICING)    https://www.redfin.com/CA/Palo-Alto/369-Church...\n",
       "SOURCE                                                                                                                                       NaN\n",
       "MLS#                                                                                                                                         NaN\n",
       "FAVORITE                                                                                                                                       N\n",
       "INTERESTED                                                                                                                                     Y\n",
       "LATITUDE                                                                                                                               37.439248\n",
       "LONGITUDE                                                                                                                            -122.148659\n",
       "Name: 107, dtype: object"
      ]
     },
     "execution_count": 61,
     "metadata": {},
     "output_type": "execute_result"
    }
   ],
   "source": [
    "df_raw.iloc[df_y.argmax()]  #looks like the price is largely due to the massive lot size, almost 50000 sq. "
   ]
  },
  {
   "cell_type": "code",
   "execution_count": null,
   "id": "2cfb8d22-f48c-4a24-aac6-251db4b5c403",
   "metadata": {},
   "outputs": [],
   "source": []
  },
  {
   "cell_type": "code",
   "execution_count": null,
   "id": "bb0a1aea-dcec-4ccb-ab43-a4f6c9a456a1",
   "metadata": {},
   "outputs": [],
   "source": []
  }
 ],
 "metadata": {
  "kernelspec": {
   "display_name": "Python 3",
   "language": "python",
   "name": "python3"
  },
  "language_info": {
   "codemirror_mode": {
    "name": "ipython",
    "version": 3
   },
   "file_extension": ".py",
   "mimetype": "text/x-python",
   "name": "python",
   "nbconvert_exporter": "python",
   "pygments_lexer": "ipython3",
   "version": "3.8.8"
  }
 },
 "nbformat": 4,
 "nbformat_minor": 5
}
